{
 "cells": [
  {
   "cell_type": "markdown",
   "metadata": {},
   "source": [
    "# Make animation of an illuminated planet on an eccentric orbit\n",
    "\n",
    "M Kenworthy // 2023 June 09\n",
    "\n",
    "This makes a set of images that can be combined into an animation showing a planet orbiting a star, with the disk of the planet showing the correct illumination.\n",
    "\n",
    "The planet does not block the orbit path correctly, this would require additional calculation of the intercept of the orbit with the disk of the planet."
   ]
  },
  {
   "cell_type": "code",
   "execution_count": null,
   "metadata": {
    "executionInfo": {
     "elapsed": 6,
     "status": "ok",
     "timestamp": 1677059101557,
     "user": {
      "displayName": "Matthew Kenworthy",
      "userId": "04338267512859009229"
     },
     "user_tz": -60
    },
    "id": "Zehudm0iY75V"
   },
   "outputs": [],
   "source": [
    "import numpy as np\n",
    "import astropy.units as u\n",
    "import astropy.constants as c\n",
    "import matplotlib.pyplot as plt\n",
    "import matplotlib.patches as patches\n",
    "\n",
    "from phases import *"
   ]
  },
  {
   "cell_type": "markdown",
   "metadata": {
    "id": "FSI3rhEkZH0h"
   },
   "source": [
    "Next cell is all the subroutines for orbital calculation"
   ]
  },
  {
   "cell_type": "code",
   "execution_count": null,
   "metadata": {},
   "outputs": [],
   "source": [
    "#%matplotlib agg\n",
    "%matplotlib inline\n",
    "# Inner working angle for the imaging\n",
    "iwa = 0.1 # arcsec\n",
    "\n",
    "# set up our orbit\n",
    "# CAUTION! you need to use Kepler's laws and know M1 and M2 to set P and a consistently :)\n",
    "#\n",
    "P = 1.1 * u.year\n",
    "tperi = 2050. * u.year\n",
    "a = 0.36 # * u.au\n",
    "e = 0.4\n",
    "i = -75 * u.deg\n",
    "w = 171.15 * u.deg\n",
    "anode = 104.15 * u.deg\n",
    "\n",
    "epochs = np.linspace(tperi, tperi+P, 100, endpoint='true')\n",
    "# draw the orbit\n",
    "_, _, Xorb, Yorb, Zorb, _, _, _ = kep3d(epochs,P,tperi,a,e,i,w,anode)\n",
    "\n",
    "epochs = np.linspace(tperi, tperi+P, 250, endpoint='true')\n",
    "\n",
    "# calc the orbit\n",
    "_, _, Xsa, Ysa, Zsa, _, _, _ = kep3d(epochs,P,tperi,a,e,i,w,anode)\n",
    "\n",
    "# calculate scattering angle\n",
    "scang = xyztoscatter(Xsa,Ysa,Zsa)\n",
    "\n",
    "for i, (xpp,ypp,illum_ang) in enumerate(zip(Xsa, Ysa, scang)):\n",
    "\n",
    "    # create a figure and axes\n",
    "    fig, ax1 = plt.subplots(1,1,figsize=(6,6))\n",
    "    ax1.axis('equal')\n",
    "    \n",
    "    ax1.set_xlim(-0.6,0.6)\n",
    "    ax1.set_ylim(-0.6,0.6)\n",
    "    # plot the orbit\n",
    "    ax1.plot(Xorb,Yorb,zorder=-10)\n",
    "\n",
    "    fname = f'anim{i+1:04d}.jpg'\n",
    "    print(fname)\n",
    "    angrot = np.arctan2(xpp,ypp) + np.pi*u.rad\n",
    "    moon(ax1,xpp.value,ypp.value,rad=0.03,\n",
    "         scatterang=illum_ang,ang=angrot)\n",
    "\n",
    "    # Inner working angle\n",
    "    patch = patches.Circle((0, 0), radius=iwa, color='gray',alpha=0.5)\n",
    "    ax1.add_patch(patch)\n",
    "    ax1.scatter(0,0,color='black')\n",
    "\n",
    "    ax1.set_xlabel('dx [arcsec]',fontsize=16)\n",
    "    ax1.set_ylabel('dy [arcsec]',fontsize=16)\n",
    "    plt.draw()\n",
    "    plt.savefig(fname)\n",
    "    plt.close()\n",
    "\n",
    "# calculate current projected separation\n",
    "rho = np.sqrt(Xsa*Xsa+Ysa*Ysa)\n",
    "\n",
    "# distance from star to planet\n",
    "rad_dist = np.sqrt(Xsa*Xsa+Ysa*Ysa+Zsa*Zsa)\n",
    "\n",
    "visible = (rho > iwa)"
   ]
  },
  {
   "cell_type": "markdown",
   "metadata": {},
   "source": [
    "The resultant `anim0000.png` files can be buint into an animation using `ffmpeg` and one of the commands below:\n",
    "\n"
   ]
  },
  {
   "cell_type": "markdown",
   "metadata": {},
   "source": [
    "Make a lossless jpg animation:\n",
    "\n",
    "    \n",
    "    ffmpeg -framerate 30 -i anim%04d.jpg -codec copy planet_phases.mkv\n",
    "\n",
    "Make an animated gif:\n",
    "\n",
    "    ffmpeg -i anim%04d.jpg planet_phases.gif\n"
   ]
  },
  {
   "cell_type": "code",
   "execution_count": null,
   "metadata": {},
   "outputs": [],
   "source": []
  }
 ],
 "metadata": {
  "colab": {
   "authorship_tag": "ABX9TyMqpTAXRm6pL+DC/37it1n+",
   "provenance": []
  },
  "kernelspec": {
   "display_name": "Python 3 (ipykernel)",
   "language": "python",
   "name": "python3"
  },
  "language_info": {
   "codemirror_mode": {
    "name": "ipython",
    "version": 3
   },
   "file_extension": ".py",
   "mimetype": "text/x-python",
   "name": "python",
   "nbconvert_exporter": "python",
   "pygments_lexer": "ipython3",
   "version": "3.9.13"
  }
 },
 "nbformat": 4,
 "nbformat_minor": 1
}
